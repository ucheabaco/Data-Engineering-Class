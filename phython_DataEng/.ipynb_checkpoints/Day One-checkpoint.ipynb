{
 "cells": [
  {
   "cell_type": "code",
   "execution_count": 1,
   "id": "857be2e8",
   "metadata": {},
   "outputs": [
    {
     "name": "stdout",
     "output_type": "stream",
     "text": [
      "<class 'str'>\n"
     ]
    }
   ],
   "source": [
    "# strings, integer and float\n",
    "print(type(\"fola\"))"
   ]
  },
  {
   "cell_type": "code",
   "execution_count": 2,
   "id": "f91a057f",
   "metadata": {},
   "outputs": [
    {
     "name": "stdout",
     "output_type": "stream",
     "text": [
      "<class 'bool'>\n"
     ]
    }
   ],
   "source": [
    "print(type(True))"
   ]
  },
  {
   "cell_type": "code",
   "execution_count": 3,
   "id": "4b06982e",
   "metadata": {},
   "outputs": [
    {
     "name": "stdout",
     "output_type": "stream",
     "text": [
      "7\n"
     ]
    }
   ],
   "source": [
    "a = 2\n",
    "b = 5\n",
    "print(a+b)"
   ]
  },
  {
   "cell_type": "code",
   "execution_count": 7,
   "id": "747a71ec",
   "metadata": {},
   "outputs": [
    {
     "name": "stdout",
     "output_type": "stream",
     "text": [
      "enter name: Uche\n",
      "Your name is Uche\n"
     ]
    }
   ],
   "source": [
    "x = input(\"enter name: \")\n",
    "print(f\"Your name is {x}\")"
   ]
  },
  {
   "cell_type": "code",
   "execution_count": 9,
   "id": "f5cab5ea",
   "metadata": {},
   "outputs": [
    {
     "name": "stdout",
     "output_type": "stream",
     "text": [
      "Enter Name: Uche\n",
      "Enter year of birth: 1981\n",
      "Uche, was born in year 1981.0, and is currently 42.0 years old\n"
     ]
    }
   ],
   "source": [
    "name = input(\"Enter Name: \")\n",
    "birth_year = float(input(\"Enter year of birth: \"))\n",
    "print (f\"{name}, was born in year {birth_year}, and is currently {2023-birth_year} years old\")"
   ]
  },
  {
   "cell_type": "code",
   "execution_count": null,
   "id": "5a866442",
   "metadata": {},
   "outputs": [],
   "source": [
    "##formula\n",
    "#F = C(9/5) + 32\n",
    "#C = F(5/9) - 32\n",
    "\n"
   ]
  },
  {
   "cell_type": "code",
   "execution_count": null,
   "id": "7a230894",
   "metadata": {},
   "outputs": [],
   "source": [
    "temp = input(\"Enter temperature value: \")\n",
    "unit = input(\"Enter unit (f/c): \")\n",
    "if unit == \"f\":\n",
    "    celsius_val = (5/9)*(temp - 32)\n",
    "    print(f\" {round(celsius_val, 2)} degree celcius\")\n",
    "elif unit == \"c\":\n",
    "    fahr = (9/5*temp) + 32\n",
    "    print(f\" {round(fahr_val, 3)} degree fahrenheit\")\n",
    "else:\n",
    "    print(\"Unknown input\")\n",
    "    "
   ]
  },
  {
   "cell_type": "code",
   "execution_count": null,
   "id": "2b767ad9",
   "metadata": {},
   "outputs": [],
   "source": [
    "# Slicing and indexing 0 IS INDEX VALUE, 1 IS ACTUAL VALUE\n",
    "a = \"apple\"\n",
    "print(a[1:3])\n",
    "len(a)"
   ]
  }
 ],
 "metadata": {
  "kernelspec": {
   "display_name": "Python 3 (ipykernel)",
   "language": "python",
   "name": "python3"
  },
  "language_info": {
   "codemirror_mode": {
    "name": "ipython",
    "version": 3
   },
   "file_extension": ".py",
   "mimetype": "text/x-python",
   "name": "python",
   "nbconvert_exporter": "python",
   "pygments_lexer": "ipython3",
   "version": "3.9.7"
  }
 },
 "nbformat": 4,
 "nbformat_minor": 5
}
